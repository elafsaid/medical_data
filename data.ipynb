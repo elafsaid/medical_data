{
 "cells": [
  {
   "cell_type": "code",
   "execution_count": null,
   "id": "9b525191-912c-4af3-a580-baafbe7bf887",
   "metadata": {},
   "outputs": [
    {
     "name": "stderr",
     "output_type": "stream",
     "text": [
      "Neither CUDA nor MPS are available - defaulting to CPU. Note: This module is much faster with a GPU.\n"
     ]
    }
   ],
   "source": [
    "import easyocr\n",
    "import cv2\n",
    "import numpy as np\n",
    "from PIL import Image\n",
    "import os\n",
    "\n",
    "# مسار الصورة (تأكد من تحديثه إلى المسار الصحيح)\n",
    "path = r\"C:\\Users\\ENG.Elaf\\tasks\\Images\\ga.png\"  # استخدم المسار الكامل للصورة مع اسم الملف\n",
    "\n",
    "# تهيئة قارئ EasyOCR لدعم اللغتين العربية والإنجليزية\n",
    "reader = easyocr.Reader(['en', 'ar'])\n",
    "\n",
    "# تحميل الصورة من مسار الملف\n",
    "def load_image(path):\n",
    "    image = Image.open(path)\n",
    "    return np.array(image)\n",
    "\n",
    "# معالجة الصورة واستخراج النصوص\n",
    "def extract_text_from_image(image):\n",
    "    # التحقق من عدد القنوات في الصورة وتحويلها إذا لزم الأمر\n",
    "    if len(image.shape) == 3 and image.shape[2] == 3:  # صورة RGB\n",
    "        image = cv2.cvtColor(image, cv2.COLOR_RGB2BGR)\n",
    "    elif len(image.shape) == 2:  # صورة رمادية\n",
    "        image = cv2.cvtColor(image, cv2.COLOR_GRAY2BGR)\n",
    "    \n",
    "    results = reader.readtext(image, detail=1)\n",
    "    extracted_texts = []\n",
    "    for (bbox, text, prob) in results:\n",
    "        extracted_texts.append((text, prob))\n",
    "        print(f\"النص: {text} - الدقة: {prob:.2f}\")\n",
    "\n",
    "        # رسم مستطيل حول النصوص المكتشفة\n",
    "        top_left = tuple(map(int, bbox[0]))\n",
    "        bottom_right = tuple(map(int, bbox[2]))\n",
    "        cv2.rectangle(image, top_left, bottom_right, (0, 255, 0), 2)\n",
    "    \n",
    "    # تحويل الصورة من BGR إلى RGB قبل عرضها باستخدام PIL\n",
    "    image_with_boxes = Image.fromarray(cv2.cvtColor(image, cv2.COLOR_BGR2RGB))\n",
    "    image_with_boxes.show()\n",
    "    \n",
    "    return extracted_texts\n",
    "\n",
    "# تحقق من وجود الصورة\n",
    "if not os.path.exists(path):\n",
    "    print(\"الصورة غير موجودة في المسار المحدد.\")\n",
    "else:\n",
    "    image = load_image(path)\n",
    "    texts = extract_text_from_image(image)\n"
   ]
  },
  {
   "cell_type": "code",
   "execution_count": null,
   "id": "9c24eabd-e8f7-4bf9-b300-ff323a213792",
   "metadata": {},
   "outputs": [],
   "source": []
  },
  {
   "cell_type": "code",
   "execution_count": null,
   "id": "d92e5952-2bff-431f-aba4-e04bf5e41e95",
   "metadata": {},
   "outputs": [],
   "source": []
  }
 ],
 "metadata": {
  "kernelspec": {
   "display_name": "Python 3 (ipykernel)",
   "language": "python",
   "name": "python3"
  },
  "language_info": {
   "codemirror_mode": {
    "name": "ipython",
    "version": 3
   },
   "file_extension": ".py",
   "mimetype": "text/x-python",
   "name": "python",
   "nbconvert_exporter": "python",
   "pygments_lexer": "ipython3",
   "version": "3.11.7"
  }
 },
 "nbformat": 4,
 "nbformat_minor": 5
}
