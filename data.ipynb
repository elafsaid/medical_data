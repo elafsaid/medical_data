{
 "cells": [
  {
   "cell_type": "code",
   "execution_count": null,
   "id": "5e75ba8f-facc-47e7-94eb-eb9847dd1622",
   "metadata": {},
   "outputs": [],
   "source": [
    "!pip install --upgrade jupyter notebook numpy pandas scipy\n"
   ]
  },
  {
   "cell_type": "code",
   "execution_count": null,
   "id": "970467db-6ea3-4fba-9d68-4179bfee69a8",
   "metadata": {},
   "outputs": [],
   "source": [
    "!pip install --upgrade streamlit\n"
   ]
  },
  {
   "cell_type": "code",
   "execution_count": null,
   "id": "3a9cfbe6-b87e-438e-9075-4c460bf4c2f1",
   "metadata": {},
   "outputs": [],
   "source": [
    "!streamlit --version\n"
   ]
  },
  {
   "cell_type": "code",
   "execution_count": null,
   "id": "e3268e00-b363-4106-adc6-0f770f784f7a",
   "metadata": {},
   "outputs": [],
   "source": [
    "!pip install --upgrade numpy\n"
   ]
  },
  {
   "cell_type": "code",
   "execution_count": null,
   "id": "45e01759-f2f9-41cd-87b8-a540e93b2d09",
   "metadata": {},
   "outputs": [],
   "source": [
    "!pip install --upgrade scikit-image\n"
   ]
  },
  {
   "cell_type": "code",
   "execution_count": null,
   "id": "a7949d2e-728e-4754-8fb0-145239cfede5",
   "metadata": {},
   "outputs": [],
   "source": [
    "!pip uninstall easyocr -y\n",
    "!pip install easyocr\n"
   ]
  },
  {
   "cell_type": "code",
   "execution_count": null,
   "id": "bdece9dd-a80d-49ff-bff5-3927d2f07b23",
   "metadata": {},
   "outputs": [],
   "source": [
    "import numpy as np\n",
    "import skimage\n",
    "import easyocr\n",
    "\n",
    "print(\"Numpy version:\", np.__version__)\n",
    "print(\"Scikit-image version:\", skimage.__version__)\n",
    "print(\"EasyOCR version:\", easyocr.__version__)\n"
   ]
  },
  {
   "cell_type": "code",
   "execution_count": null,
   "id": "20f7b361-e2b2-4f7c-a0bd-f65a966a6cd7",
   "metadata": {},
   "outputs": [],
   "source": [
    "import easyocr\n",
    "import cv2\n",
    "import numpy as np\n",
    "from PIL import Image\n",
    "\n"
   ]
  },
  {
   "cell_type": "code",
   "execution_count": null,
   "id": "7eda1361-0fdd-442c-9b8e-9dd9ecc23228",
   "metadata": {},
   "outputs": [],
   "source": [
    "# تهيئة قارئ EasyOCR لدعم اللغتين العربية والإنجليزية\n",
    "reader = easyocr.Reader(['en', 'ar'])\n",
    "\n"
   ]
  },
  {
   "cell_type": "code",
   "execution_count": null,
   "id": "9b525191-912c-4af3-a580-baafbe7bf887",
   "metadata": {},
   "outputs": [],
   "source": [
    "import easyocr\n",
    "import cv2\n",
    "import numpy as np\n",
    "from PIL import Image\n",
    "import os\n",
    "\n",
    "# مسار الصورة (تأكد من تحديثه إلى المسار الصحيح)\n",
    "path = r\"C:\\Users\\ENG.Elaf\\tasks\\Images\\ga.png\"  # استخدم المسار الكامل للصورة مع اسم الملف\n",
    "\n",
    "# تهيئة قارئ EasyOCR لدعم اللغتين العربية والإنجليزية\n",
    "reader = easyocr.Reader(['en', 'ar'])\n",
    "\n",
    "# تحميل الصورة من مسار الملف\n",
    "def load_image(path):\n",
    "    image = Image.open(path)\n",
    "    return np.array(image)\n",
    "\n",
    "# معالجة الصورة واستخراج النصوص\n",
    "def extract_text_from_image(image):\n",
    "    results = reader.readtext(image, detail=1)\n",
    "    extracted_texts = []\n",
    "    for (bbox, text, prob) in results:\n",
    "        extracted_texts.append((text, prob))\n",
    "        print(f\"النص: {text} - الدقة: {prob:.2f}\")\n",
    "\n",
    "        # رسم مستطيل حول النصوص المكتشفة\n",
    "        top_left = tuple(map(int, bbox[0]))\n",
    "        bottom_right = tuple(map(int, bbox[2]))\n",
    "        cv2.rectangle(image, top_left, bottom_right, (0, 255, 0), 2)\n",
    "    \n",
    "    # عرض الصورة مع المستطيلات\n",
    "    image_with_boxes = Image.fromarray(image)\n",
    "    image_with_boxes.show()\n",
    "    \n",
    "    return extracted_texts\n",
    "\n",
    "# تحقق من وجود الصورة\n",
    "if not os.path.exists(path):\n",
    "    print(\"الصورة غير موجودة في المسار المحدد.\")\n",
    "else:\n",
    "    image = load_image(path)\n",
    "    texts = extract_text_from_image(image)\n"
   ]
  },
  {
   "cell_type": "code",
   "execution_count": null,
   "id": "93340534-26cf-4d2b-9f3b-31e094b2872a",
   "metadata": {},
   "outputs": [],
   "source": [
    "pip install --upgrade easyocr\n"
   ]
  },
  {
   "cell_type": "code",
   "execution_count": null,
   "id": "94663860-b785-43b1-9a21-ff8d2795348d",
   "metadata": {},
   "outputs": [],
   "source": [
    "pip install --upgrade easyocr\n"
   ]
  },
  {
   "cell_type": "code",
   "execution_count": null,
   "id": "f2b72365-2087-41f5-a2ec-c482c862ad04",
   "metadata": {},
   "outputs": [],
   "source": [
    "pip install torch --index-url https://download.pytorch.org/whl/cpu\n"
   ]
  },
  {
   "cell_type": "code",
   "execution_count": null,
   "id": "9c24eabd-e8f7-4bf9-b300-ff323a213792",
   "metadata": {},
   "outputs": [],
   "source": []
  }
 ],
 "metadata": {
  "kernelspec": {
   "display_name": "Python 3 (ipykernel)",
   "language": "python",
   "name": "python3"
  },
  "language_info": {
   "codemirror_mode": {
    "name": "ipython",
    "version": 3
   },
   "file_extension": ".py",
   "mimetype": "text/x-python",
   "name": "python",
   "nbconvert_exporter": "python",
   "pygments_lexer": "ipython3",
   "version": "3.11.7"
  }
 },
 "nbformat": 4,
 "nbformat_minor": 5
}
