{
 "cells": [
  {
   "cell_type": "code",
   "execution_count": 4,
   "id": "c5f1f659-8f84-4331-a430-2c45808d24ea",
   "metadata": {},
   "outputs": [
    {
     "name": "stdout",
     "output_type": "stream",
     "text": [
      "Data generated and saved to 'medical_data.csv'.\n"
     ]
    }
   ],
   "source": [
    "import pandas as pd\n",
    "import numpy as np\n",
    "\n",
    "# توليد بيانات افتراضية\n",
    "np.random.seed(42)\n",
    "data = pd.DataFrame({\n",
    "    'age': np.random.randint(20, 70, 100),       # العمر بين 20 و 70\n",
    "    'gender': np.random.choice([0, 1], 100),     # الجنس (0 للإناث، 1 للذكور)\n",
    "    'symptom1': np.random.randint(1, 10, 100),   # درجة العَرَض الأول\n",
    "    'symptom2': np.random.randint(1, 10, 100),   # درجة العَرَض الثاني\n",
    "    'symptom3': np.random.randint(1, 10, 100),   # درجة العَرَض الثالث\n",
    "    'diagnosis': np.random.choice([0, 1], 100)   # التشخيص (0: سليم، 1: مصاب)\n",
    "})\n",
    "\n",
    "# حفظ البيانات في ملف CSV إذا أردت\n",
    "data.to_csv('medical_data.csv', index=False)\n",
    "print(\"Data generated and saved to 'medical_data.csv'.\")\n"
   ]
  },
  {
   "cell_type": "code",
   "execution_count": 5,
   "id": "68b7e262-7f48-47a6-b398-b9f732df577f",
   "metadata": {},
   "outputs": [
    {
     "name": "stdout",
     "output_type": "stream",
     "text": [
      "Model Accuracy: 0.70\n"
     ]
    }
   ],
   "source": [
    "from sklearn.model_selection import train_test_split\n",
    "from sklearn.ensemble import RandomForestClassifier\n",
    "from sklearn.metrics import accuracy_score\n",
    "\n",
    "# فصل الميزات والنتائج\n",
    "X = data.drop(columns=['diagnosis'])\n",
    "y = data['diagnosis']\n",
    "\n",
    "# تقسيم البيانات إلى تدريب واختبار\n",
    "X_train, X_test, y_train, y_test = train_test_split(X, y, test_size=0.2, random_state=42)\n",
    "\n",
    "# تدريب النموذج\n",
    "model = RandomForestClassifier()\n",
    "model.fit(X_train, y_train)\n",
    "\n",
    "# التنبؤ وتقييم الأداء\n",
    "y_pred = model.predict(X_test)\n",
    "accuracy = accuracy_score(y_test, y_pred)\n",
    "print(f\"Model Accuracy: {accuracy:.2f}\")\n"
   ]
  },
  {
   "cell_type": "code",
   "execution_count": null,
   "id": "201c26cb-9a9f-4a37-a12f-bf3cdc860cf2",
   "metadata": {},
   "outputs": [],
   "source": []
  },
  {
   "cell_type": "code",
   "execution_count": null,
   "id": "43e93889-e0c3-408d-be1e-409db626c1da",
   "metadata": {},
   "outputs": [],
   "source": []
  },
  {
   "cell_type": "code",
   "execution_count": null,
   "id": "97a7a6f6-647c-4f4c-b854-60092960cabb",
   "metadata": {},
   "outputs": [],
   "source": []
  }
 ],
 "metadata": {
  "kernelspec": {
   "display_name": "Python 3 (ipykernel)",
   "language": "python",
   "name": "python3"
  },
  "language_info": {
   "codemirror_mode": {
    "name": "ipython",
    "version": 3
   },
   "file_extension": ".py",
   "mimetype": "text/x-python",
   "name": "python",
   "nbconvert_exporter": "python",
   "pygments_lexer": "ipython3",
   "version": "3.11.7"
  }
 },
 "nbformat": 4,
 "nbformat_minor": 5
}
