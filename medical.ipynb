{
 "cells": [
  {
   "cell_type": "code",
   "execution_count": null,
   "id": "69e04e52-cf53-4dbe-abfd-3e0521974788",
   "metadata": {},
   "outputs": [],
   "source": [
    "# إنشاء بيئة افتراضية\n",
    "python -m venv env\n",
    "\n",
    "# تفعيل البيئة الافتراضية (على Windows)\n",
    "env\\Scripts\\activate\n",
    "\n",
    "\n",
    "# تثبيت المكتبات المطلوبة\n",
    "pip install streamlit opencv-python easyocr\n"
   ]
  },
  {
   "cell_type": "code",
   "execution_count": 2,
   "id": "d27f5190-6e07-42fc-8774-740713764b32",
   "metadata": {},
   "outputs": [],
   "source": [
    "import cv2\n",
    "\n",
    "def load_image(image_path):\n",
    "    # تحميل الصورة\n",
    "    image = cv2.imread(image_path)\n",
    "    return image\n"
   ]
  },
  {
   "cell_type": "code",
   "execution_count": null,
   "id": "870c7d0f-d5f9-442d-815a-13c92d050d46",
   "metadata": {},
   "outputs": [],
   "source": [
    "import easyocr\n",
    "\n",
    "def read_text_from_image(image):\n",
    "    # إنشاء قارئ EasyOCR\n",
    "    reader = easyocr.Reader(['en'])\n",
    "    \n",
    "    # قراءة النص من الصورة\n",
    "    results = reader.readtext(image)\n",
    "    \n",
    "    # تجميع النصوص المقروءة\n",
    "    text = ''\n",
    "    for (bbox, text_result, prob) in results:\n",
    "        text += f\"{text_result} \"\n",
    "    \n",
    "    return text\n"
   ]
  },
  {
   "cell_type": "code",
   "execution_count": null,
   "id": "72b6c008-701f-4f1e-802b-075bb324484e",
   "metadata": {},
   "outputs": [],
   "source": []
  }
 ],
 "metadata": {
  "kernelspec": {
   "display_name": "Python 3 (ipykernel)",
   "language": "python",
   "name": "python3"
  },
  "language_info": {
   "codemirror_mode": {
    "name": "ipython",
    "version": 3
   },
   "file_extension": ".py",
   "mimetype": "text/x-python",
   "name": "python",
   "nbconvert_exporter": "python",
   "pygments_lexer": "ipython3",
   "version": "3.11.7"
  }
 },
 "nbformat": 4,
 "nbformat_minor": 5
}
