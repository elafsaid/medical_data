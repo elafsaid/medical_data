{
 "cells": [
  {
   "cell_type": "code",
   "execution_count": 3,
   "id": "943ace09-4d1d-42e5-b69c-16dd9a5d9580",
   "metadata": {},
   "outputs": [
    {
     "name": "stdout",
     "output_type": "stream",
     "text": [
      "خطأ أثناء تحميل البيانات: [WinError 3] The system cannot find the path specified: 'data/train'\n"
     ]
    },
    {
     "name": "stderr",
     "output_type": "stream",
     "text": [
      "C:\\Users\\ENG.Elaf\\anaconda3\\Lib\\site-packages\\keras\\src\\layers\\convolutional\\base_conv.py:107: UserWarning: Do not pass an `input_shape`/`input_dim` argument to a layer. When using Sequential models, prefer using an `Input(shape)` object as the first layer in the model instead.\n",
      "  super().__init__(activity_regularizer=activity_regularizer, **kwargs)\n",
      "WARNING:absl:You are saving your model as an HDF5 file via `model.save()` or `keras.saving.save_model(model)`. This file format is considered legacy. We recommend using instead the native Keras format, e.g. `model.save('my_model.keras')` or `keras.saving.save_model(model, 'my_model.keras')`. \n"
     ]
    },
    {
     "name": "stdout",
     "output_type": "stream",
     "text": [
      "خطأ أثناء تدريب النموذج: name 'train_generator' is not defined\n",
      "تم حفظ النموذج بنجاح.\n"
     ]
    }
   ],
   "source": [
    "import numpy as np\n",
    "import tensorflow as tf\n",
    "from tensorflow.keras.models import Sequential\n",
    "from tensorflow.keras.layers import Conv2D, MaxPooling2D, Flatten, Dense\n",
    "from tensorflow.keras.preprocessing.image import ImageDataGenerator\n",
    "\n",
    "# إعداد المعلمات\n",
    "img_height, img_width = 150, 150\n",
    "batch_size = 32\n",
    "\n",
    "# إعداد البيانات\n",
    "train_datagen = ImageDataGenerator(rescale=1./255)\n",
    "test_datagen = ImageDataGenerator(rescale=1./255)\n",
    "\n",
    "# تأكد من أن المسارات صحيحة\n",
    "try:\n",
    "    train_generator = train_datagen.flow_from_directory(\n",
    "        'data/train',  # مسار بيانات التدريب\n",
    "        target_size=(img_height, img_width),\n",
    "        batch_size=batch_size,\n",
    "        class_mode='binary'  # استخدام 'categorical' إذا كانت لديك أكثر من فئة\n",
    "    )\n",
    "\n",
    "    validation_generator = test_datagen.flow_from_directory(\n",
    "        'data/validation',  # مسار بيانات التحقق\n",
    "        target_size=(img_height, img_width),\n",
    "        batch_size=batch_size,\n",
    "        class_mode='binary'\n",
    "    )\n",
    "except Exception as e:\n",
    "    print(f\"خطأ أثناء تحميل البيانات: {e}\")\n",
    "    exit()\n",
    "\n",
    "# بناء النموذج\n",
    "model = Sequential([\n",
    "    Conv2D(32, (3, 3), activation='relu', input_shape=(img_height, img_width, 3)),\n",
    "    MaxPooling2D(pool_size=(2, 2)),\n",
    "    Conv2D(64, (3, 3), activation='relu'),\n",
    "    MaxPooling2D(pool_size=(2, 2)),\n",
    "    Flatten(),\n",
    "    Dense(64, activation='relu'),\n",
    "    Dense(1, activation='sigmoid')  # استخدم 'softmax' إذا كانت لديك أكثر من فئة\n",
    "])\n",
    "\n",
    "# تجميع النموذج\n",
    "model.compile(optimizer='adam', loss='binary_crossentropy', metrics=['accuracy'])\n",
    "\n",
    "# تدريب النموذج\n",
    "try:\n",
    "    model.fit(\n",
    "        train_generator,\n",
    "        steps_per_epoch=train_generator.samples // batch_size,\n",
    "        validation_data=validation_generator,\n",
    "        validation_steps=validation_generator.samples // batch_size,\n",
    "        epochs=10  # يمكنك زيادة عدد الفترات حسب الحاجة\n",
    "    )\n",
    "except Exception as e:\n",
    "    print(f\"خطأ أثناء تدريب النموذج: {e}\")\n",
    "\n",
    "# حفظ النموذج\n",
    "try:\n",
    "    model.save('medical_analysis_model.h5')\n",
    "    print(\"تم حفظ النموذج بنجاح.\")\n",
    "except Exception as e:\n",
    "    print(f\"خطأ أثناء حفظ النموذج: {e}\")\n"
   ]
  },
  {
   "cell_type": "code",
   "execution_count": null,
   "id": "a46917e7-a192-4590-b8dc-6dd9f04502ef",
   "metadata": {},
   "outputs": [],
   "source": []
  }
 ],
 "metadata": {
  "kernelspec": {
   "display_name": "Python 3 (ipykernel)",
   "language": "python",
   "name": "python3"
  },
  "language_info": {
   "codemirror_mode": {
    "name": "ipython",
    "version": 3
   },
   "file_extension": ".py",
   "mimetype": "text/x-python",
   "name": "python",
   "nbconvert_exporter": "python",
   "pygments_lexer": "ipython3",
   "version": "3.11.7"
  }
 },
 "nbformat": 4,
 "nbformat_minor": 5
}
